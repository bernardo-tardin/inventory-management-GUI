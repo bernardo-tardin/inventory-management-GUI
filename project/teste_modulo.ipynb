{
 "cells": [
  {
   "cell_type": "code",
   "execution_count": 28,
   "id": "569186d4",
   "metadata": {},
   "outputs": [],
   "source": [
    "def getProduto(texto):\n",
    "    novoTexto=texto.replace(\"\\n\",\"\")\n",
    "    Produto=[]\n",
    "    dados=novoTexto.split(\",\")\n",
    "    for i in range(len(dados)):\n",
    "        Produto.append(dados[i])\n",
    "    return Produto\n",
    "\n",
    "def lerDataset(fnome):\n",
    "    f = open(fnome)\n",
    "    bd = []\n",
    "    f.readline()\n",
    "    for linha in f:\n",
    "        bd.append(getProduto(linha))\n",
    "    return bd\n",
    "\n",
    "BD = lerDataset('teste3.csv')\n",
    "\n",
    "def adicionarProduto(bd,nomeBR,preco):\n",
    "    novoProduto=[]\n",
    "    novoProduto.append(nomeBR)\n",
    "    if 'Calcola' in nomeBR:\n",
    "        nomePT=nomeBR.replace('Calcola','Cueca')\n",
    "        novoProduto.append(nomePT)\n",
    "    elif 'Cueca' in nomeBR:\n",
    "        nomePT=nomeBR.replace('Cueca','Boxer')\n",
    "        novoProduto.append(nomePT)\n",
    "    elif 'Tanga Fio' in nomeBR:\n",
    "        nomePT=nomeBR.replace('Tanga Fio', 'Cueca Brasileira')\n",
    "        novoProduto.append(nomePT)\n",
    "    elif 'Samba Cancao' in nomeBR:\n",
    "        nomePT=nomeBR.replace('Samba Cancao','Boxers Largos')\n",
    "        novoProduto.append(nomePT)\n",
    "    elif 'Soutien Bojo' in nomeBR:\n",
    "        nomePT=nomeBR.replace('Soutien Bojo','Soutien Almofadado')\n",
    "        novoProduto.append(nomePT)\n",
    "    else:\n",
    "        nomePT='-----'\n",
    "        novoProduto.append(nomePT)\n",
    "    novoProduto.append(preco)\n",
    "    bd.append(novoProduto)\n",
    "    for produto in range(len(bd)):\n",
    "        bd[produto][0]='Ref '+str(i+1)\n",
    "    return bd\n",
    "        \n",
    "def removerProduto(bd,nomeBR):\n",
    "    for produto in bd:\n",
    "        if nomeBR in produto[0]:\n",
    "            bd.remove(produto)\n",
    "        else:\n",
    "            print('Produto não encontrado')\n",
    "    return bd\n",
    "\n",
    "\n",
    "\n"
   ]
  },
  {
   "cell_type": "code",
   "execution_count": 40,
   "id": "afcdfac8",
   "metadata": {},
   "outputs": [],
   "source": [
    "from PIL import Image\n",
    "from os.path import join\n",
    "\n",
    "\n",
    "def thumb(path):\n",
    "    try:\n",
    "        #Relative path\n",
    "        img=Image.open(path)\n",
    "        #In-place modification\n",
    "        img.thumbnail((200,200))\n",
    "        img.save((path))\n",
    "    except IDError:\n",
    "        print('Erro')"
   ]
  },
  {
   "cell_type": "code",
   "execution_count": 95,
   "id": "e4f3941b",
   "metadata": {},
   "outputs": [
    {
     "name": "stdout",
     "output_type": "stream",
     "text": [
      "<produto>\n",
      "\t<Artigo>a</Artigo>\n",
      "    <Entregue>2</Entregue>\n",
      "    <D></D>\n",
      "    <V></V>\n",
      "    <P.Unit.>4,20</P.Unit.>\n",
      "    <Soma></Soma>\n",
      "</produto>\n",
      "<produto>\n",
      "\t<Artigo>teste1</Artigo>\n",
      "    <Entregue>3</Entregue>\n",
      "    <D></D>\n",
      "    <V></V>\n",
      "    <P.Unit.>3,30</P.Unit.>\n",
      "    <Soma></Soma>\n",
      "</produto>\n"
     ]
    }
   ],
   "source": [
    "import csv\n",
    "from datetime import datetime\n",
    "def lerDataset(fnome):\n",
    "    BD=[]\n",
    "    with open(fnome, encoding='utf-8') as file:\n",
    "        bd = csv.reader(file, delimiter=',')\n",
    "        for produto in bd:\n",
    "            BD.append(produto)\n",
    "    return BD\n",
    "\n",
    "fnome1='Nota '+str(datetime.today().strftime('%Y-%m-%d'))+'.csv'\n",
    "fnome2='Nota '+str(datetime.today().strftime('%Y-%m-%d'))+'.xlsx'\n",
    "path1='C:/Users/rafay/OneDrive/Área de Trabalho/taty/Notas/DONT_OPEN/'\n",
    "path2='C:/Users/rafay/OneDrive/Área de Trabalho/taty/Notas/'\n",
    "file1=path1+fnome1\n",
    "file2=path2+fnome2\n",
    "\n",
    "def criarNote(bd,fnome,path1):\n",
    "    with open(join(path1,fnome),'w',encoding='utf-8') as file:\n",
    "        spamwriter = csv.writer(file, delimiter=',', quoting=csv.QUOTE_MINIMAL)\n",
    "        spamwriter.writerow(['Artigo', 'Entregue', 'D','V','P.Unit','Soma'])\n",
    "        for linha in bd:\n",
    "            spamwriter.writerow(linha)\n",
    "    file.close()\n",
    "           \n",
    "import pandas as pd\n",
    "\n",
    "read_file = pd.read_csv (r'file1')\n",
    "read_file.to_excel (r'file2', index = None, header=True)"
   ]
  },
  {
   "cell_type": "code",
   "execution_count": 70,
   "id": "2ebf977a",
   "metadata": {},
   "outputs": [
    {
     "name": "stdout",
     "output_type": "stream",
     "text": [
      "C:/Users/rafay/OneDrive/Área de Trabalho/taty/Notas/Nota 2021-12-20 19:12:32.053235\n"
     ]
    }
   ],
   "source": [
    "from datetime import datetime\n",
    "\n",
    "fnome='Nota '+str(datetime.today())\n",
    "caminho=str('C:/Users/rafay/OneDrive/Área de Trabalho/taty/Notas/')\n",
    "file=caminho+fnome\n",
    "print(file)"
   ]
  },
  {
   "cell_type": "code",
   "execution_count": 100,
   "id": "8a46aa20",
   "metadata": {},
   "outputs": [],
   "source": [
    "fnome1='Nota '+str(datetime.today().strftime('%Y-%m-%d-%H-%M-%S'))+'.csv'\n",
    "fnome2='Nota '+str(datetime.today().strftime('%Y-%m-%d-%H-%M-%S'))+'.xlsx'\n",
    "path1='C:/Users/rafay/OneDrive/Área de Trabalho/taty/Notas/DONT_OPEN/'\n",
    "path2='C:/Users/rafay/OneDrive/Área de Trabalho/taty/Notas/'\n",
    "file1=path1+fnome1\n",
    "file2=path2+fnome2\n",
    "\n",
    "def criarNote(bd,fnome,path1):\n",
    "    with open(join(path1,fnome),'w',encoding='utf-8') as file:\n",
    "        spamwriter = csv.writer(file, delimiter=',', quoting=csv.QUOTE_MINIMAL)\n",
    "        spamwriter.writerow(['Artigo', 'Entregue', 'D','V','P.Unit','Soma'])\n",
    "        for linha in bd:\n",
    "            spamwriter.writerow(linha)\n",
    "    file.close()\n",
    "           \n",
    "\n",
    "import pandas as pd\n",
    "\n",
    "def criarNotaExcel(file1,file2):\n",
    "    read_file = pd.read_csv (file1)\n",
    "    read_file.to_excel (file2, index = None, header=True)\n",
    "\n",
    "bd=[['a', '2', '', '', '4,20', ''], ['teste1', '3', '', '', '3,30', '']]\n",
    "\n",
    "criarNote(bd,fnome1,path1)\n",
    "criarNotaExcel(file1,file2)"
   ]
  },
  {
   "cell_type": "code",
   "execution_count": null,
   "id": "fd30eb7b",
   "metadata": {},
   "outputs": [],
   "source": []
  },
  {
   "cell_type": "code",
   "execution_count": null,
   "id": "5281e759",
   "metadata": {},
   "outputs": [],
   "source": []
  }
 ],
 "metadata": {
  "kernelspec": {
   "display_name": "Python 3",
   "language": "python",
   "name": "python3"
  },
  "language_info": {
   "codemirror_mode": {
    "name": "ipython",
    "version": 3
   },
   "file_extension": ".py",
   "mimetype": "text/x-python",
   "name": "python",
   "nbconvert_exporter": "python",
   "pygments_lexer": "ipython3",
   "version": "3.8.8"
  }
 },
 "nbformat": 4,
 "nbformat_minor": 5
}
